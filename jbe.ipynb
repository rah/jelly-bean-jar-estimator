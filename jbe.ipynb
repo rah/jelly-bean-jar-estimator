{
 "cells": [
  {
   "cell_type": "markdown",
   "metadata": {},
   "source": [
    "## Comparison of Simple Methods to Calculate Jelly Beans in a Jar\n",
    "\n",
    "A common challenge where people are asked to guess the number of jelly beans in a jar. \n",
    "\n",
    "There are a number of simple approaches that may be used to help estimate the number of beans rather than a intuitive estimation. The question being asked here is how more accuracte are these simple methods over humanities ability to make a judgement.\n",
    "\n",
    "Why is this of interest. In many situations we deal with uncertainty and have to reley on the knowledge of experts to provide an estimate. There are many books on the subject of measuring events and uncertainty.\n",
    "\n",
    "#### Methods\n",
    "\n",
    "The following simple methods have been used to calculate the number of bean in a sample jar presented to a working group.\n",
    "\n",
    "   * Volumetric: Use the calculation of volumes\n",
    "   * Layers: Count beans on top and number of layers\n",
    "   * Wisdom of Crowds: Average all guesses provided\n",
    "   \n",
    "A simple monte-carlo approach is also used to identify possible confidence limits on the volumetric calculation.\n",
    "\n",
    "#### Outcome\n",
    "\n",
    "The result of these calculations will be compared with the actual number of beans in the jar.\n",
    "   "
   ]
  },
  {
   "cell_type": "code",
   "execution_count": 2,
   "metadata": {},
   "outputs": [],
   "source": [
    "import math"
   ]
  },
  {
   "cell_type": "markdown",
   "metadata": {},
   "source": [
    "### Volumetric"
   ]
  },
  {
   "cell_type": "code",
   "execution_count": 15,
   "metadata": {},
   "outputs": [
    {
     "name": "stdout",
     "output_type": "stream",
     "text": [
      "Jar volume =  2389181.213055038\n",
      "Bean volume =  804.247719318987\n",
      "Estimated number of beans by volume =  2822.1679687500005\n"
     ]
    }
   ],
   "source": [
    "# Basic values to calculate volume\n",
    "# All measurements in millimeters\n",
    "\n",
    "jar_width = 130.0\n",
    "jar_height = 180.0\n",
    "\n",
    "bean_width = 8.0\n",
    "bean_height = 16.0\n",
    "\n",
    "packing_factor = 0.05\n",
    "\n",
    "# Calculate volume of a cylinder\n",
    "def vol(width, height):\n",
    "    return math.pi * (width/2)**2 * height\n",
    "\n",
    "# Calc number of beans\n",
    "def beans(jar_vol, bean_vol):\n",
    "    return jar_vol/bean_vol\n",
    "\n",
    "# Calculate volumes\n",
    "jar_volume = vol(jar_width, jar_height)\n",
    "bean_volume = vol(bean_width, bean_height)\n",
    "print(\"Jar volume = \", jar_volume)\n",
    "print(\"Bean volume = \", bean_volume)\n",
    "\n",
    "# Estimate number of beans\n",
    "base_estimate = beans(jar_volume, bean_volume)\n",
    "\n",
    "# Adjust for packing factor\n",
    "volumetric_estimate = base_estimate - (base_estimate * packing_factor)\n",
    "\n",
    "print(\"Estimated number of beans by volume = \", volumetric_estimate)\n"
   ]
  },
  {
   "cell_type": "markdown",
   "metadata": {},
   "source": [
    "### Layers"
   ]
  },
  {
   "cell_type": "code",
   "execution_count": 13,
   "metadata": {},
   "outputs": [
    {
     "name": "stdout",
     "output_type": "stream",
     "text": [
      "Estimated number of beans by layers =  1710\n"
     ]
    }
   ],
   "source": [
    "number_beans_on_top = 90\n",
    "number_layers = 19\n",
    "\n",
    "layers_estimate = number_beans_on_top * number_layers\n",
    "\n",
    "print(\"Estimated number of beans by layers = \", layers_estimate)\n"
   ]
  },
  {
   "cell_type": "markdown",
   "metadata": {},
   "source": [
    "### Wisdom"
   ]
  },
  {
   "cell_type": "code",
   "execution_count": 19,
   "metadata": {},
   "outputs": [
    {
     "name": "stdout",
     "output_type": "stream",
     "text": [
      "Total number of Guesses =  15\n",
      "Values range from  (230.0, 2137.0)\n",
      "Mean value =  922.5\n",
      "Variation in guesses =  319434.46428571426\n"
     ]
    }
   ],
   "source": [
    "from scipy import stats\n",
    "\n",
    "estimates = [648, 250, 230, 1548, 926, 696, 346, 1980, 804, 823, 2137, 703.5, 1043, 842, 861]\n",
    "result = stats.describe(estimates)\n",
    "\n",
    "print(\"Total number of Guesses = \", result.nobs)\n",
    "print(\"Values range from \", result.minmax)\n",
    "print(\"Mean value = \", result.mean)\n",
    "print(\"Variation in guesses = \", result.variance)\n"
   ]
  },
  {
   "cell_type": "markdown",
   "metadata": {},
   "source": [
    "### Monte-Carlo"
   ]
  },
  {
   "cell_type": "code",
   "execution_count": null,
   "metadata": {},
   "outputs": [],
   "source": [
    "min_bean_width = 0\n",
    "max_bean_height = 0\n",
    "\n",
    "min_jar_width = 0\n",
    "max_jar_height = 0\n",
    "\n",
    "mc_iterations = 0\n",
    "mc_estimates = []\n",
    "\n"
   ]
  }
 ],
 "metadata": {
  "kernelspec": {
   "display_name": "Python 3",
   "language": "python",
   "name": "python3"
  },
  "language_info": {
   "codemirror_mode": {
    "name": "ipython",
    "version": 3
   },
   "file_extension": ".py",
   "mimetype": "text/x-python",
   "name": "python",
   "nbconvert_exporter": "python",
   "pygments_lexer": "ipython3",
   "version": "3.7.4"
  }
 },
 "nbformat": 4,
 "nbformat_minor": 4
}
