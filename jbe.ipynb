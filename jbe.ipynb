{
 "cells": [
  {
   "cell_type": "markdown",
   "metadata": {},
   "source": [
    "## Comparison of Simple Methods to Calculate the Number of Jelly Beans in a Jar\n",
    "\n",
    "A common challenge where people are asked to guess the number of jelly beans in a jar. \n",
    "\n",
    "There are a number of simple approaches that may be used to help estimate the number of beans rather than a intuitive estimation. The question that is being asked here; is how more accurate are these simple methods over humanities ability to make a judgement.\n",
    "\n",
    "Why is this of interest. In many situations we deal with uncertainty and have to rely on the knowledge of experts to provide an estimate. There are many books on the subject of measuring events and uncertainty.\n",
    "\n",
    "#### Methods\n",
    "\n",
    "The following simple methods have been used to calculate the number of bean in a sample jar presented to a working group.\n",
    "\n",
    "   * Volumetric: Use the calculation of volumes\n",
    "   * Layers: Count beans on top and number of layers\n",
    "   * Wisdom of Crowds: Average all guesses provided\n",
    "\n",
    "#### Outcome\n",
    "\n",
    "The result of these calculations will be compared with the actual number of beans in the jar.\n",
    "   "
   ]
  },
  {
   "cell_type": "code",
   "execution_count": 1,
   "metadata": {},
   "outputs": [],
   "source": [
    "import math\n",
    "from scipy import stats"
   ]
  },
  {
   "cell_type": "markdown",
   "metadata": {},
   "source": [
    "### Volumetric\n",
    "\n",
    "This approach treats both the jar and beans as cylinders and uses the equation:\n",
    "\n",
    "Volume = Pi * radius^2 * height\n",
    "\n",
    "A packing fudge factor is included that accounts for spaces even though the volume calculation does account for some space. Ellipsoid packing allows for 74% of the space to be utilised ([Ellipsoid Packing](https://mathworld.wolfram.com/EllipsoidPacking.html)). Therefore we need to set the packing factor to be 0.26.\n",
    "\n"
   ]
  },
  {
   "cell_type": "code",
   "execution_count": 2,
   "metadata": {},
   "outputs": [
    {
     "name": "stdout",
     "output_type": "stream",
     "text": [
      "Jar volume =  2389181.213055038\n",
      "Bean volume =  804.247719318987\n",
      "Estimated number of beans by volume =  2198.3203125000005\n"
     ]
    }
   ],
   "source": [
    "# Basic values to calculate volume\n",
    "# All measurements in millimeters\n",
    "\n",
    "jar_width = 130.0\n",
    "jar_height = 180.0\n",
    "\n",
    "bean_width = 8.0\n",
    "bean_height = 16.0\n",
    "\n",
    "packing_factor = 0.26\n",
    "\n",
    "# Calculate volume of a cylinder\n",
    "def vol(width, height):\n",
    "    return math.pi * (width/2)**2 * height\n",
    "\n",
    "# Calc number of beans\n",
    "def beans(jar_vol, bean_vol):\n",
    "    return jar_vol/bean_vol\n",
    "\n",
    "# Calculate volumes\n",
    "jar_volume = vol(jar_width, jar_height)\n",
    "bean_volume = vol(bean_width, bean_height)\n",
    "print(\"Jar volume = \", jar_volume)\n",
    "print(\"Bean volume = \", bean_volume)\n",
    "\n",
    "# Estimate number of beans\n",
    "base_estimate = beans(jar_volume, bean_volume)\n",
    "\n",
    "# Adjust for packing factor\n",
    "volumetric_estimate = base_estimate - (base_estimate * packing_factor)\n",
    "\n",
    "print(\"Estimated number of beans by volume = \", volumetric_estimate)\n"
   ]
  },
  {
   "cell_type": "markdown",
   "metadata": {},
   "source": [
    "### Layers\n",
    "\n",
    "This approach counts the number of beans that are visible from the top of the container, then tries to estimate the number of layers of beans. In practice this is pretty tricky but what the heck!\n"
   ]
  },
  {
   "cell_type": "code",
   "execution_count": 3,
   "metadata": {},
   "outputs": [
    {
     "name": "stdout",
     "output_type": "stream",
     "text": [
      "Estimated number of beans by layers =  1710\n"
     ]
    }
   ],
   "source": [
    "number_beans_on_top = 90\n",
    "number_layers = 19\n",
    "\n",
    "layers_estimate = number_beans_on_top * number_layers\n",
    "\n",
    "print(\"Estimated number of beans by layers = \", layers_estimate)\n"
   ]
  },
  {
   "cell_type": "markdown",
   "metadata": {},
   "source": [
    "### Wisdom\n",
    "\n",
    "The wisdom of the crowd is a common paradigm. Here we just gather all the estimates and derive the statistics\n"
   ]
  },
  {
   "cell_type": "code",
   "execution_count": 8,
   "metadata": {},
   "outputs": [
    {
     "name": "stdout",
     "output_type": "stream",
     "text": [
      "Total number of Guesses =  24\n",
      "Values range from  (230.0, 2137.0)\n",
      "Mean value =  925.0458333333332\n",
      "Variation in guesses =  213925.0504166667\n",
      "Standard Deviation   = 462.5203243282036\n"
     ]
    }
   ],
   "source": [
    "\n",
    "estimates = [648, 250, 230, 1548, 926, 696, 346, 1980, 804, 823, \n",
    "             2137, 703.5, 1043, 842, 861, 1113, 703.6, 1368, 864,\n",
    "             1150, 768, 960, 750, 687]\n",
    "\n",
    "result = stats.describe(estimates)\n",
    "wisdom_estimate = result.mean\n",
    "\n",
    "print(\"Total number of Guesses = \", result.nobs)\n",
    "print(\"Values range from \", result.minmax)\n",
    "print(\"Mean value = \", result.mean)\n",
    "print(\"Variation in guesses = \", result.variance)\n",
    "print(\"Standard Deviation   =\", math.sqrt(result.variance))\n"
   ]
  },
  {
   "cell_type": "markdown",
   "metadata": {},
   "source": [
    "### Results"
   ]
  },
  {
   "cell_type": "code",
   "execution_count": 5,
   "metadata": {},
   "outputs": [
    {
     "name": "stdout",
     "output_type": "stream",
     "text": [
      "Volumetric Estimate =  2198.3203125000005\n",
      "Layered Estimate    =  1710\n",
      "Wisdom Estimate     =  943.0045454545453\n",
      "\n",
      "Actual Result       =  2000\n"
     ]
    }
   ],
   "source": [
    "actual_number_of_beans = 2000 # just a place holder for now\n",
    "\n",
    "print(\"Volumetric Estimate = \", volumetric_estimate)\n",
    "print(\"Layered Estimate    = \", layers_estimate)\n",
    "print(\"Wisdom Estimate     = \", wisdom_estimate)\n",
    "print(\"\\nActual Result       = \", actual_number_of_beans)\n"
   ]
  },
  {
   "cell_type": "markdown",
   "metadata": {},
   "source": [
    "### Summary\n",
    "\n",
    "From this simple experiment it appears that ... TBD"
   ]
  },
  {
   "cell_type": "code",
   "execution_count": null,
   "metadata": {},
   "outputs": [],
   "source": []
  }
 ],
 "metadata": {
  "kernelspec": {
   "display_name": "Python 3",
   "language": "python",
   "name": "python3"
  },
  "language_info": {
   "codemirror_mode": {
    "name": "ipython",
    "version": 3
   },
   "file_extension": ".py",
   "mimetype": "text/x-python",
   "name": "python",
   "nbconvert_exporter": "python",
   "pygments_lexer": "ipython3",
   "version": "3.7.4"
  }
 },
 "nbformat": 4,
 "nbformat_minor": 4
}
